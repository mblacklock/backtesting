{
 "cells": [
  {
   "cell_type": "code",
   "execution_count": 80,
   "id": "5e31fdd8-0890-4c56-8c78-561ac2115be4",
   "metadata": {
    "tags": []
   },
   "outputs": [],
   "source": [
    "from backtesting import Backtest, Strategy\n",
    "import pandas as pd\n",
    "import numpy as np\n",
    "from matplotlib import pyplot as plt\n",
    "\n",
    "from backtesting.lib import SQN\n",
    "from backtesting.test import GOOG\n",
    "data = GOOG\n",
    "\n",
    "lookback_bars = 365\n",
    "validation_bars = 185\n",
    "\n",
    "parameters = [[46, 433], [30, 488], [15, 445], [46, 433], [46, 433], [46, 433], [46, 433], [34, 388]]\n",
    "dates = [data.index[i+1] for i in range(lookback_bars, len(data) - validation_bars, validation_bars)]\n",
    "dates_index = [i+1 for i in range(lookback_bars, len(data) - validation_bars, validation_bars)]\n",
    "n_short = [parameter[0] for parameter in parameters]\n",
    "n_long = [parameter[1] for parameter in parameters]"
   ]
  },
  {
   "cell_type": "code",
   "execution_count": 146,
   "id": "b1c36d0d-879d-48b9-a70b-32939d4bc8d9",
   "metadata": {
    "tags": []
   },
   "outputs": [],
   "source": [
    "def indicator(data, n, dates_index):\n",
    "    data_set = data.iloc[:dates_index[0]]\n",
    "    sqn_values = SQN(data_set.Close, n[0])\n",
    "    sqn = pd.Series(sqn_values, index=data_set.index)\n",
    "    for i in range(len(dates_index)-1):\n",
    "        data_set = data.iloc[dates_index[i]-n[i]:dates_index[i+1]]\n",
    "        sqn_values = SQN(data_set.Close, n[i])\n",
    "        sqn_Series = pd.Series(sqn_values, index=data_set.index)\n",
    "        sqn = pd.concat([sqn, sqn_Series.iloc[n[i]:]])\n",
    "    data_set = data.iloc[dates_index[-1]-n[i]:]\n",
    "    sqn_values = SQN(data_set.Close, n[-1])\n",
    "    sqn_Series = pd.Series(sqn_values, index=data_set.index)\n",
    "    sqn = pd.concat([sqn, sqn_Series.iloc[n[-1]:]])\n",
    "    return sqn.values # return only the values in a np.array\n",
    "\n",
    "# use all(sqn_short.index == data.index) to check if the index is correct"
   ]
  },
  {
   "cell_type": "code",
   "execution_count": 147,
   "id": "a8687027-55ba-402e-8307-71d94a55375b",
   "metadata": {
    "tags": []
   },
   "outputs": [],
   "source": [
    "sqn_short = indicator(data, n_short, dates_index)"
   ]
  }
 ],
 "metadata": {
  "kernelspec": {
   "display_name": "Python 3 (ipykernel)",
   "language": "python",
   "name": "python3"
  },
  "language_info": {
   "codemirror_mode": {
    "name": "ipython",
    "version": 3
   },
   "file_extension": ".py",
   "mimetype": "text/x-python",
   "name": "python",
   "nbconvert_exporter": "python",
   "pygments_lexer": "ipython3",
   "version": "3.9.1"
  }
 },
 "nbformat": 4,
 "nbformat_minor": 5
}
